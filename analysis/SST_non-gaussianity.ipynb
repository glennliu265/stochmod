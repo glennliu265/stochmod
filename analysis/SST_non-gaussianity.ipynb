{
 "cells": [
  {
   "cell_type": "markdown",
   "id": "d56b4327-6116-45a8-baed-64f2b7f4d2a2",
   "metadata": {},
   "source": [
    "## Investigate the non-Gaussianity of SST Data from CESM\n"
   ]
  },
  {
   "cell_type": "code",
   "execution_count": 1,
   "id": "baeef2d0-0ff2-4d27-bdc5-7103dea79ddc",
   "metadata": {},
   "outputs": [],
   "source": [
    "import numpy as np\n",
    "import cartopy.crs as ccrs\n",
    "import matplotlib.pyplot as plt\n",
    "import sys\n",
    "import cmocean\n",
    "from tqdm import tqdm\n",
    "\n",
    "stormtrack = 0\n",
    "if stormtrack == 0:\n",
    "    projpath   = \"/Users/gliu/Downloads/02_Research/01_Projects/01_AMV/02_stochmod/\"\n",
    "    datpath     = projpath + '01_Data/model_output/'\n",
    "    rawpath     = projpath + '01_Data/model_input/'\n",
    "    outpathdat  = datpath + '/proc/'\n",
    "    figpath     = projpath + \"02_Figures/20211018/\"\n",
    "   \n",
    "    sys.path.append(\"/Users/gliu/Downloads/02_Research/01_Projects/01_AMV/02_stochmod/03_Scripts/stochmod/model/\")\n",
    "    sys.path.append(\"/Users/gliu/Downloads/02_Research/01_Projects/01_AMV/00_Commons/03_Scripts/\")\n",
    "\n",
    "elif stormtrack == 1:\n",
    "    datpath     = \"/stormtrack/data3/glliu/01_Data/02_AMV_Project/02_stochmod/Model_Data/model_output/\"\n",
    "    rawpath     = \"/stormtrack/data3/glliu/01_Data/02_AMV_Project/02_stochmod/Model_Data/model_input/\"\n",
    "    outpathdat  = datpath + '/proc/'\n",
    "\n",
    "    \n",
    "    sys.path.append(\"/home/glliu/00_Scripts/01_Projects/00_Commons/\")\n",
    "    sys.path.append(\"/home/glliu/00_Scripts/01_Projects/01_AMV/02_stochmod/stochmod/model/\")\n",
    "\n",
    "from amv import proc,viz\n",
    "import scm\n",
    "import tbx\n",
    "import time\n",
    "import xarray as xr\n",
    "\n",
    "from scipy.io import loadmat\n",
    "from scipy import stats"
   ]
  },
  {
   "cell_type": "code",
   "execution_count": 2,
   "id": "44986a9c-4464-455c-a317-fe9fbec3a4dc",
   "metadata": {},
   "outputs": [
    {
     "name": "stdout",
     "output_type": "stream",
     "text": [
      "/Users/gliu/Downloads/02_Research/01_Projects/01_AMV/02_stochmod/02_Figures/20211018/ was found!\n"
     ]
    }
   ],
   "source": [
    "# Load CESM-Data\n",
    "\n",
    "# Path to data \n",
    "projpath = \"/Users/gliu/Downloads/02_Research/01_Projects/01_AMV/02_stochmod/\"\n",
    "outpath = projpath + '02_Figures/20211018/'\n",
    "proc.makedir(outpath)\n",
    "datpath = \"/Users/gliu/Downloads/02_Research/01_Projects/01_AMV/02_stochmod/01_Data/\"\n",
    "\n",
    "\n",
    "bbox = [-80,0,10,65]\n",
    "#bboxplot = \n",
    "runmean=True\n",
    "ensorem = False # Set to True to use ENSO-removed data\n",
    "\n",
    "# Use separate landice mask for each\n",
    "limasks = (datpath+\"CESM-FULL_landicemask360.npy\",\n",
    "           datpath+\"CESM-SLAB_landicemask360.npy\"\n",
    "           )"
   ]
  },
  {
   "cell_type": "code",
   "execution_count": null,
   "id": "3483ac83-4875-4755-ae85-05573d34dd60",
   "metadata": {},
   "outputs": [],
   "source": [
    "st = time.time()\n",
    "# Load full sst data from model # [time x lat x lon]\n",
    "if ensorem: # Load full field with ENSO removed\n",
    "    ld  = np.load(datpath+\"FULL_PIC_ENSOREM_TS_lag1_pcs2_monwin3.npz\" ,allow_pickle=True)\n",
    "    sstfull = ld['TS']\n",
    "    ld2 = np.load(datpath+\"SLAB_PIC_ENSOREM_TS_lag1_pcs2_monwin3.npz\" ,allow_pickle=True)\n",
    "    sstslab = ld2['TS']\n",
    "    remove_anom=True\n",
    "else: # Load anomalies without ENSO removal (~82 sec)\n",
    "    ssts     = []\n",
    "    mconfigs = [\"FULL\",\"SLAB\"]\n",
    "    for i in range(2):\n",
    "        ds = xr.open_dataset(datpath+\"CESM_proc/\"+\"TS_anom_PIC_%s.nc\"%(mconfigs[i]))\n",
    "        #sst = ds.TS.values\n",
    "        ssts.append(ds)\n",
    "        #ssts.append(sst)\n",
    "    sstfull,sstslab = ssts\n",
    "    remove_anom=False\n",
    "    \n",
    "# Load lat/lon\n",
    "lat    = loadmat(\"/Users/gliu/Downloads/02_Research/01_Projects/01_AMV/00_Commons/01_Data/CESM1_LATLON.mat\")['LAT'].squeeze()\n",
    "lon360 = loadmat(\"/Users/gliu/Downloads/02_Research/01_Projects/01_AMV/00_Commons/01_Data/CESM1_LATLON.mat\")['LON'].squeeze()\n",
    "\n",
    "print(\"Loaded PiC Data in %.2fs\"%(time.time()-st))"
   ]
  },
  {
   "cell_type": "code",
   "execution_count": null,
   "id": "845a4ff1-b490-4a99-a019-ee045c7be33a",
   "metadata": {},
   "outputs": [],
   "source": [
    "ssts[0].isel(time=0).TS.plot()"
   ]
  },
  {
   "cell_type": "code",
   "execution_count": null,
   "id": "9b5c733e-e6bf-4cb8-b77f-eb73bd054e4a",
   "metadata": {},
   "outputs": [],
   "source": [
    "def preproc_CESMPIC_ds(sst,limask=None):\n",
    "    \n",
    "    # Apply Land/Ice Mask\n",
    "    if limask is None:\n",
    "        mask = np.load(datpath+\"landicemask_enssum.npy\")\n",
    "    else:\n",
    "        mask = np.load(limask)\n",
    "    sst = ds.TS * mask[None,:,:]\n",
    "    \n",
    "    # Remove monthly anomalies\n",
    "    st = time.time()\n",
    "    sst = proc.xrdeseason(sst) # Calculate monthly\n",
    "    \n",
    "    print(\"Deseasoned in %.2fs\"%(time.time()-st))\n",
    "    return sst"
   ]
  },
  {
   "cell_type": "code",
   "execution_count": null,
   "id": "cb680463-a059-487f-9fad-af5f309504c8",
   "metadata": {},
   "outputs": [],
   "source": [
    "%%time\n",
    "\n",
    "ssta = []\n",
    "for i in range(2):\n",
    "    dsin  = ssts[i]\n",
    "    dsout = preproc_CESMPIC_ds(dsin,limask=limasks[i])\n",
    "    ssta.append(dsout)\n",
    "    "
   ]
  },
  {
   "cell_type": "code",
   "execution_count": null,
   "id": "efe64033-0511-4399-be05-51aa1ee80788",
   "metadata": {},
   "outputs": [],
   "source": [
    "\n",
    "\n",
    "\n",
    "\n",
    "ssta[0].isel(time=9).plot()"
   ]
  },
  {
   "cell_type": "code",
   "execution_count": null,
   "id": "594665df-dbba-407a-b5ba-0370d09564b7",
   "metadata": {},
   "outputs": [],
   "source": [
    "skewtest = stats.skew(ssta[0],axis=0)"
   ]
  },
  {
   "cell_type": "code",
   "execution_count": null,
   "id": "95a2dcad-ce79-4992-ba9e-f1c51b5a9ab2",
   "metadata": {},
   "outputs": [],
   "source": [
    "ssta[0].shape,skewtest.shape"
   ]
  },
  {
   "cell_type": "code",
   "execution_count": null,
   "id": "2e92b7e8-a7c7-4050-917a-90cb4c93cc54",
   "metadata": {},
   "outputs": [],
   "source": [
    "lon  = np.linspace(0,360,288)\n",
    "lat  = np.linspace(-90,90,192)\n",
    "vmax = 1\n",
    "cstep = 0.05\n",
    "clvl = np.arange(-vmax,vmax+cstep,cstep)\n",
    "proj = ccrs.PlateCarree()\n",
    "#bbox = [0,360,-65,65]\n",
    "\n",
    "fig,ax = plt.subplots(1,1,figsize=(10,6),subplot_kw={'projection':proj})\n",
    "ax = viz.add_coast_grid(ax,proj=proj)\n",
    "#pcm = ax.pcolormesh(lon,lat,skewtest,vmin=-vmax,vmax=vmax,cmap=cmocean.cm.balance)\n",
    "pcm = ax.contourf(lon,lat,skewtest,levels=clvl,cmap=cmocean.cm.balance)\n",
    "fig.colorbar(pcm,ax=ax,fraction=0.025)\n",
    "ax.set_title(\"SST' Skewness (CESM Preindustrial Control)\")\n",
    "\n",
    "plt.savefig(\"SST Skewness.png\",dpi=200,bbox_inches='tight')"
   ]
  },
  {
   "cell_type": "code",
   "execution_count": null,
   "id": "0928e278-bc0a-4cc2-841f-f191571542d9",
   "metadata": {},
   "outputs": [],
   "source": []
  }
 ],
 "metadata": {
  "kernelspec": {
   "display_name": "Python 3 (ipykernel)",
   "language": "python",
   "name": "python3"
  },
  "language_info": {
   "codemirror_mode": {
    "name": "ipython",
    "version": 3
   },
   "file_extension": ".py",
   "mimetype": "text/x-python",
   "name": "python",
   "nbconvert_exporter": "python",
   "pygments_lexer": "ipython3",
   "version": "3.7.12"
  }
 },
 "nbformat": 4,
 "nbformat_minor": 5
}
