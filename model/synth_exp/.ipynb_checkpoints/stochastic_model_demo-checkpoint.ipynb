{
 "cells": [
  {
   "cell_type": "code",
   "execution_count": null,
   "id": "ddd38793-4241-40f7-ac6e-30106300c117",
   "metadata": {},
   "outputs": [],
   "source": [
    "## A Simple Stochastic Model Script\n"
   ]
  },
  {
   "cell_type": "code",
   "execution_count": null,
   "id": "e5285077-9d7a-4918-8077-08e996a33c7e",
   "metadata": {},
   "outputs": [],
   "source": [
    "h      = np.ones(12) * 50\n",
    "lbd    = np.ones(12) * 35\n",
    "\n",
    "# Timescale\n",
    "\n"
   ]
  }
 ],
 "metadata": {
  "kernelspec": {
   "display_name": "Python 3 (ipykernel)",
   "language": "python",
   "name": "python3"
  },
  "language_info": {
   "codemirror_mode": {
    "name": "ipython",
    "version": 3
   },
   "file_extension": ".py",
   "mimetype": "text/x-python",
   "name": "python",
   "nbconvert_exporter": "python",
   "pygments_lexer": "ipython3",
   "version": "3.7.10"
  }
 },
 "nbformat": 4,
 "nbformat_minor": 5
}
